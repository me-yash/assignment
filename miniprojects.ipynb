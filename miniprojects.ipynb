{
 "cells": [
  {
   "cell_type": "code",
   "execution_count": 7,
   "id": "85e12ed8-1d9f-49ee-bccc-31fd7dca981e",
   "metadata": {},
   "outputs": [
    {
     "name": "stdin",
     "output_type": "stream",
     "text": [
      "Enter Marks: 43\n"
     ]
    },
    {
     "name": "stdout",
     "output_type": "stream",
     "text": [
      "Grade Obtain: FAIL\n"
     ]
    }
   ],
   "source": [
    "#GRADE CALCULATOR\n",
    "marks=int(input('Enter Marks:'))\n",
    "if marks>=95:\n",
    "    grade='A'\n",
    "elif marks>=80:\n",
    "    grade='B'\n",
    "elif marks>=75:\n",
    "    grade='C'\n",
    "elif marks>=60:\n",
    "    grade='D'\n",
    "elif marks>=45:\n",
    "    grade='E'    \n",
    "else:\n",
    "    grade='FAIL'\n",
    "    print('Grade Obtain:',grade)"
   ]
  },
  {
   "cell_type": "code",
   "execution_count": 8,
   "id": "34af857b-f971-4b64-9b76-274b82c7db26",
   "metadata": {},
   "outputs": [
    {
     "name": "stdin",
     "output_type": "stream",
     "text": [
      "Enter the numbers: 5\n",
      "Enter the second number 8\n",
      "Choose operation to perform *\n"
     ]
    },
    {
     "name": "stdout",
     "output_type": "stream",
     "text": [
      "40\n"
     ]
    }
   ],
   "source": [
    "#CALCULATOR\n",
    "num1=int(input('Enter the numbers:'))\n",
    "num2=int(input('Enter the second number'))\n",
    "opt=input('Choose operation to perform')\n",
    "if opt=='+':\n",
    "    print(num1+num2)\n",
    "elif opt=='-':\n",
    "    print(num1-num2)\n",
    "elif opt=='*':\n",
    "    print(num1*num2)\n",
    "elif opt=='/':\n",
    "    print(num1/num2)\n",
    "else :\n",
    "    print('invalid operation') "
   ]
  },
  {
   "cell_type": "code",
   "execution_count": 9,
   "id": "55fa247f-7f07-49e5-8b2b-3bb6681e1c55",
   "metadata": {},
   "outputs": [
    {
     "name": "stdin",
     "output_type": "stream",
     "text": [
      "Enter age: 45\n"
     ]
    },
    {
     "name": "stdout",
     "output_type": "stream",
     "text": [
      "candidate eligible to voting or driving\n"
     ]
    }
   ],
   "source": [
    "#AGE CHECKER\n",
    "age=int(input('Enter age:'))\n",
    "if age>=18:\n",
    "    print('candidate eligible to voting or driving')\n",
    "else :\n",
    "    print('candidate is not eligible to voting or driving')"
   ]
  },
  {
   "cell_type": "code",
   "execution_count": 10,
   "id": "884d11e3-bd09-45bd-90fd-95afc021f053",
   "metadata": {},
   "outputs": [
    {
     "name": "stdout",
     "output_type": "stream",
     "text": [
      "Stops available for the Journey along with their fare:-\n",
      "\t1.Palam-Najafgarh=30\n",
      "\t2.Madhu Vihar-Dwarka=15\n",
      "\t3.Dwarka-Sagarpur=35\n",
      "\t4.Matiyala-Mayapuri=40\n"
     ]
    },
    {
     "name": "stdin",
     "output_type": "stream",
     "text": [
      "Select your stop: 3\n",
      "Enter your age: 19\n"
     ]
    },
    {
     "name": "stdout",
     "output_type": "stream",
     "text": [
      "FARE FOR YOUR JOURNEY FROM DWARKA TO SAGARPUR IS: 10.5\n",
      "THANKS FOR VISITING THE BUS..('-')\n"
     ]
    }
   ],
   "source": [
    "#BUS TICKET FARE CALCULATOR\n",
    "print(\"Stops available for the Journey along with their fare:-\\n\\t1.Palam-Najafgarh=30\\n\\t2.Madhu Vihar-Dwarka=15\\n\\t3.Dwarka-Sagarpur=35\\n\\t4.Matiyala-Mayapuri=40\")\n",
    "stop=int(input(\"Select your stop:\"))\n",
    "age=int(input('Enter your age:'))\n",
    "#according to the age group  and the stops apply the discount\n",
    "if stop==1:\n",
    "    if age<=18:\n",
    "        \n",
    "        disc=20-(20*(40/100))\n",
    "    \n",
    "        print(\"FARE FOR YOUR JOURNEY FROM PALAM TO NAJAFGARH IS:\",disc)\n",
    "    elif age>18 and age<35:\n",
    "        disc=20-(20*(30/100))\n",
    "        \n",
    "        print(\"FARE FOR YOUR JOURNEY FROM PALAM TO NAJAFGARH IS:\",disc)\n",
    "    elif age>=35 and age<65:\n",
    "        disc=20-(20*(10/100))\n",
    "        \n",
    "        print(\"FARE FOR YOUR JOURNEY FROM PALAM TO NAJAFGARH IS:\",disc)\n",
    "    else:\n",
    "        disc=20-(20*(50/100))\n",
    "        \n",
    "        print(\"FARE FOR YOUR JOURNEY FROM PALAM TO NAJAFGARH IS:\",disc)\n",
    "elif stop==2:\n",
    "    if age<=18:\n",
    "        disc=30-(30*(40/100))\n",
    "        print(\"FARE FOR YOUR JOURNEY FROM MADHU VIHAR TO DWARKA IS:\",disc)\n",
    "    elif age>18 and age<35:\n",
    "        disc=30-(30*(30/100))\n",
    "        print(\"FARE FOR YOUR JOURNEY FROM MADHU VIHAR TO DWARKA IS:\",disc)\n",
    "    elif age>=35 and age<65:\n",
    "        disc=30-(30*(10/100))\n",
    "        print(\"FARE FOR YOUR JOURNEY FROM MADHU VIHAR TO DWARKA IS:\",disc)\n",
    "    else:\n",
    "        disc=30-(30*(50/100))\n",
    "        print(\"FARE FOR YOUR JOURNEY FROM MADHU VIHAR TO DWARKA IS:\",disc)\n",
    "elif stop==3:\n",
    "    if age<=18:\n",
    "        \n",
    "        disc=15-(15*(40/100))\n",
    "        print(\"FARE FOR YOUR JOURNEY FROM DWARKA TO SAGARPUR IS:\",disc)\n",
    "    elif age>18 and age<35:\n",
    "        disc=15-(15*(30/100))\n",
    "        print(\"FARE FOR YOUR JOURNEY FROM DWARKA TO SAGARPUR IS:\",disc)\n",
    "    elif age>=35 and age<65:\n",
    "        disc=15-(15*(10/100))\n",
    "        print(\"FARE FOR YOUR JOURNEY FROM DWARKA TO SAGARPUR IS:\",disc)\n",
    "    elif age>=65:\n",
    "        disc=15-(15*(50/100))\n",
    "        print(\"FARE FOR YOUR JOURNEY FROM DWARKA TO SAGARPUR IS:\",disc)\n",
    "elif stop==4:\n",
    "    if age<=18:\n",
    "        \n",
    "        disc=30-(30*(40/100))\n",
    "        print(\"FARE FOR YOUR JOURNEY FROM MATIYALA TO MAYAPURI IS:\",disc)\n",
    "    elif age>18 and age<35:\n",
    "        disc=30-(30*(30/100))\n",
    "        print(\"FARE FOR YOUR JOURNEY FROM MATIYALA TO MAYAPURI IS:\",disc)\n",
    "    elif age>=35 and age<65:\n",
    "        disc=30-(30*(10/100))\n",
    "        print(\"FARE FOR YOUR JOURNEY FROM MATIYALA TO MAYAPURI IS:\",disc)\n",
    "    elif age>=65:\n",
    "        disc=30-(30*(50/100))\n",
    "        print(\"FARE FOR YOUR JOURNEY FROM MATIYALA TO MAYAPURI IS:\",disc)\n",
    "else:\n",
    "    print(\"ENTER CORRECT STOP\")\n",
    "print(\"THANKS FOR VISITING THE BUS..('-')\")"
   ]
  },
  {
   "cell_type": "code",
   "execution_count": 12,
   "id": "79d9ad37-32fa-4550-b834-5bd1f1c74010",
   "metadata": {},
   "outputs": [
    {
     "name": "stdin",
     "output_type": "stream",
     "text": [
      "ENTER NUMBER OF UNITS GENERATED:  354\n"
     ]
    },
    {
     "name": "stdout",
     "output_type": "stream",
     "text": [
      "ELECTRICITY BILL = 728\n"
     ]
    }
   ],
   "source": [
    "#Electricity bill calculator\n",
    "unit=int(input(\"ENTER NUMBER OF UNITS GENERATED: \"))\n",
    "punit=7\n",
    "if unit<=250:\n",
    "    print(\"ELECETRICTY BILL NEED TO BE PAID IS=0\")\n",
    "else:\n",
    "    print(\"ELECTRICITY BILL =\",(unit-250)*punit)"
   ]
  },
  {
   "cell_type": "code",
   "execution_count": 13,
   "id": "0c50fca8-1cbe-45f2-8553-e5ee17ff24fb",
   "metadata": {},
   "outputs": [
    {
     "name": "stdin",
     "output_type": "stream",
     "text": [
      " Enter number of overdue days : 8\n"
     ]
    },
    {
     "name": "stdout",
     "output_type": "stream",
     "text": [
      "FINE OF: Rs. 24\n"
     ]
    }
   ],
   "source": [
    "#Library Fine Based on Days Overdue\n",
    "days = int(input (\" Enter number of overdue days :\"))\n",
    "if days<=1: \n",
    "    print(\" FINE NOT APPLICABLE!!!\")\n",
    "elif days<=7:\n",
    "    fine=days*2\n",
    "    print(\"FINE OF: Rs.\",fine)\n",
    "elif days<=10:\n",
    "    fine=days*3\n",
    "    print(\"FINE OF: Rs.\",fine)\n",
    "elif days<=25:\n",
    "    fine=days*5\n",
    "    print(\"FINE OF: Rs.\",fine)\n",
    "else:\n",
    "    fine=days*30"
   ]
  },
  {
   "cell_type": "code",
   "execution_count": null,
   "id": "b4f4636e-fdcc-4502-be56-8594eaeaf848",
   "metadata": {},
   "outputs": [],
   "source": []
  }
 ],
 "metadata": {
  "kernelspec": {
   "display_name": "Python 3 (ipykernel)",
   "language": "python",
   "name": "python3"
  },
  "language_info": {
   "codemirror_mode": {
    "name": "ipython",
    "version": 3
   },
   "file_extension": ".py",
   "mimetype": "text/x-python",
   "name": "python",
   "nbconvert_exporter": "python",
   "pygments_lexer": "ipython3",
   "version": "3.13.5"
  }
 },
 "nbformat": 4,
 "nbformat_minor": 5
}
