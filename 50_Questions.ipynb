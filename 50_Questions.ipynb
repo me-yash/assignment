{
  "nbformat": 4,
  "nbformat_minor": 0,
  "metadata": {
    "colab": {
      "provenance": []
    },
    "kernelspec": {
      "name": "python3",
      "display_name": "Python 3"
    },
    "language_info": {
      "name": "python"
    }
  },
  "cells": [
    {
      "cell_type": "code",
      "execution_count": null,
      "metadata": {
        "colab": {
          "base_uri": "https://localhost:8080/"
        },
        "id": "utUCldPrm64k",
        "outputId": "02af044b-da1f-42a2-816b-876b3a25988c"
      },
      "outputs": [
        {
          "output_type": "stream",
          "name": "stdout",
          "text": [
            "Enter first number: 3\n",
            "Enter second number: 2\n",
            "Enter third number: 5\n",
            "Largest: 5\n"
          ]
        }
      ],
      "source": [
        "a = int(input(\"Enter first number: \"))\n",
        "b = int(input(\"Enter second number: \"))\n",
        "c = int(input(\"Enter third number: \"))\n",
        "\n",
        "if a >= b and a >= c:\n",
        "    print(\"Largest:\", a)\n",
        "elif b >= a and b >= c:\n",
        "    print(\"Largest:\", b)\n",
        "else:\n",
        "    print(\"Largest:\", c)\n"
      ]
    },
    {
      "cell_type": "code",
      "source": [
        "num = int(input(\"Enter a number: \"))\n",
        "if num % 2 == 0:\n",
        "    print(\"Even\")\n",
        "else:\n",
        "    print(\"Odd\")\n"
      ],
      "metadata": {
        "colab": {
          "base_uri": "https://localhost:8080/"
        },
        "id": "oSxLJvvInG2H",
        "outputId": "b967d9e8-ad87-46d0-d20c-b7751781844d"
      },
      "execution_count": null,
      "outputs": [
        {
          "output_type": "stream",
          "name": "stdout",
          "text": [
            "Enter a number: 6\n",
            "Even\n"
          ]
        }
      ]
    },
    {
      "cell_type": "code",
      "source": [
        "s = input(\"Enter a string: \")\n",
        "print(\"Reversed:\", s[::-1])\n"
      ],
      "metadata": {
        "colab": {
          "base_uri": "https://localhost:8080/"
        },
        "id": "urexlBpanMGQ",
        "outputId": "fec96fae-5190-4e10-9269-66996021408c"
      },
      "execution_count": null,
      "outputs": [
        {
          "output_type": "stream",
          "name": "stdout",
          "text": [
            "Enter a string: Yash\n",
            "Reversed: hsaY\n"
          ]
        }
      ]
    },
    {
      "cell_type": "code",
      "source": [
        "s = input(\"Enter a string: \").lower()\n",
        "vowels = 'aeiou'\n",
        "count = sum(1 for char in s if char in vowels)\n",
        "print(\"Number of vowels:\", count)\n"
      ],
      "metadata": {
        "colab": {
          "base_uri": "https://localhost:8080/"
        },
        "id": "sf87FbWvnRew",
        "outputId": "a8115686-b075-4736-9b53-5cfdce66acd1"
      },
      "execution_count": null,
      "outputs": [
        {
          "output_type": "stream",
          "name": "stdout",
          "text": [
            "Enter a string: yash\n",
            "Number of vowels: 1\n"
          ]
        }
      ]
    },
    {
      "cell_type": "code",
      "source": [
        "a = float(input(\"Enter first number: \"))\n",
        "b = float(input(\"Enter second number: \"))\n",
        "op = input(\"Enter operator (+, -, *, /): \")\n",
        "\n",
        "if op == '+':\n",
        "    print(\"Result:\", a + b)\n",
        "elif op == '-':\n",
        "    print(\"Result:\", a - b)\n",
        "elif op == '*':\n",
        "    print(\"Result:\", a * b)\n",
        "elif op == '/':\n",
        "    print(\"Result:\", a / b)\n",
        "else:\n",
        "    print(\"Invalid operator\")\n"
      ],
      "metadata": {
        "colab": {
          "base_uri": "https://localhost:8080/"
        },
        "id": "0OAMcZPUnZTs",
        "outputId": "360925c9-4df8-46e6-fa79-4c589d40af8e"
      },
      "execution_count": null,
      "outputs": [
        {
          "output_type": "stream",
          "name": "stdout",
          "text": [
            "Enter first number: 5\n",
            "Enter second number: 4\n",
            "Enter operator (+, -, *, /): -\n",
            "Result: 1.0\n"
          ]
        }
      ]
    },
    {
      "cell_type": "code",
      "source": [
        "num = int(input(\"Enter a number: \"))\n",
        "if num < 2:\n",
        "    print(\"Not Prime\")\n",
        "else:\n",
        "    for i in range(2, int(num**0.5)+1):\n",
        "        if num % i == 0:\n",
        "            print(\"Not Prime\")\n",
        "            break\n",
        "    else:\n",
        "        print(\"Prime\")\n"
      ],
      "metadata": {
        "colab": {
          "base_uri": "https://localhost:8080/"
        },
        "id": "nDyueY8tnuKx",
        "outputId": "8c296bfb-74dd-4820-c9a2-9018fe8793f0"
      },
      "execution_count": null,
      "outputs": [
        {
          "output_type": "stream",
          "name": "stdout",
          "text": [
            "Enter a number: 5\n",
            "Prime\n"
          ]
        }
      ]
    },
    {
      "cell_type": "code",
      "source": [
        "num = int(input(\"Enter a number: \"))\n",
        "for i in range(1, 11):\n",
        "    print(f\"{num} x {i} = {num * i}\")\n"
      ],
      "metadata": {
        "colab": {
          "base_uri": "https://localhost:8080/"
        },
        "id": "9hubx5LHnx4J",
        "outputId": "886ff4be-0b43-4e23-e179-fe3434f7605d"
      },
      "execution_count": null,
      "outputs": [
        {
          "output_type": "stream",
          "name": "stdout",
          "text": [
            "Enter a number: 2\n",
            "2 x 1 = 2\n",
            "2 x 2 = 4\n",
            "2 x 3 = 6\n",
            "2 x 4 = 8\n",
            "2 x 5 = 10\n",
            "2 x 6 = 12\n",
            "2 x 7 = 14\n",
            "2 x 8 = 16\n",
            "2 x 9 = 18\n",
            "2 x 10 = 20\n"
          ]
        }
      ]
    },
    {
      "cell_type": "code",
      "source": [
        "n = int(input(\"Enter number of terms: \"))\n",
        "a, b = 0, 1\n",
        "for _ in range(n):\n",
        "    print(a, end=' ')\n",
        "    a, b = b, a + b\n"
      ],
      "metadata": {
        "colab": {
          "base_uri": "https://localhost:8080/"
        },
        "id": "u9yKIunWn1f9",
        "outputId": "d997cfa6-7d6e-4a00-cc66-af14a1fbb930"
      },
      "execution_count": null,
      "outputs": [
        {
          "output_type": "stream",
          "name": "stdout",
          "text": [
            "Enter number of terms: 5\n",
            "0 1 1 2 3 "
          ]
        }
      ]
    },
    {
      "cell_type": "code",
      "source": [
        "num = int(input(\"Enter a number: \"))\n",
        "fact = 1\n",
        "for i in range(1, num + 1):\n",
        "    fact *= i\n",
        "print(\"Factorial:\", fact)\n"
      ],
      "metadata": {
        "colab": {
          "base_uri": "https://localhost:8080/"
        },
        "id": "R4wViZ3Yn6o7",
        "outputId": "92476a50-3899-4457-bd21-2608a1a6eaef"
      },
      "execution_count": null,
      "outputs": [
        {
          "output_type": "stream",
          "name": "stdout",
          "text": [
            "Enter a number: 4\n",
            "Factorial: 24\n"
          ]
        }
      ]
    },
    {
      "cell_type": "code",
      "source": [
        "num = input(\"Enter a number: \")\n",
        "if num == num[::-1]:\n",
        "    print(\"Palindrome\")\n",
        "else:\n",
        "    print(\"Not Palindrome\")\n"
      ],
      "metadata": {
        "colab": {
          "base_uri": "https://localhost:8080/"
        },
        "id": "e9b-bNOFoC4x",
        "outputId": "6a10ba7f-16ff-4e44-fd9f-0767bc446d94"
      },
      "execution_count": null,
      "outputs": [
        {
          "output_type": "stream",
          "name": "stdout",
          "text": [
            "Enter a number: 141\n",
            "Palindrome\n"
          ]
        }
      ]
    },
    {
      "cell_type": "code",
      "source": [
        "num = int(input(\"Enter a number: \"))\n",
        "total = 0\n",
        "while num > 0:\n",
        "    total += num % 10\n",
        "    num //= 10\n",
        "print(\"Sum of digits:\", total)\n"
      ],
      "metadata": {
        "colab": {
          "base_uri": "https://localhost:8080/"
        },
        "id": "kiYZYhAcobXF",
        "outputId": "c622a024-0799-4725-adcf-82564f96f115"
      },
      "execution_count": null,
      "outputs": [
        {
          "output_type": "stream",
          "name": "stdout",
          "text": [
            "Enter a number: 2345\n",
            "Sum of digits: 14\n"
          ]
        }
      ]
    },
    {
      "cell_type": "code",
      "source": [
        "c = float(input(\"Enter temperature in Celsius: \"))\n",
        "f = (c * 9/5) + 32\n",
        "print(\"Fahrenheit:\", f)\n"
      ],
      "metadata": {
        "colab": {
          "base_uri": "https://localhost:8080/"
        },
        "id": "OT4b1llqogHO",
        "outputId": "8bf711d5-85c7-4c73-c33f-383144dca058"
      },
      "execution_count": null,
      "outputs": [
        {
          "output_type": "stream",
          "name": "stdout",
          "text": [
            "Enter temperature in Celsius: 32\n",
            "Fahrenheit: 89.6\n"
          ]
        }
      ]
    },
    {
      "cell_type": "code",
      "source": [
        "def maximum(a, b):\n",
        "    return a if a > b else b\n",
        "\n",
        "print(\"Max is:\", maximum(5, 9))\n"
      ],
      "metadata": {
        "colab": {
          "base_uri": "https://localhost:8080/"
        },
        "id": "EzySTXu_oi73",
        "outputId": "f2a37c36-1120-4375-e424-c177cb24d02e"
      },
      "execution_count": null,
      "outputs": [
        {
          "output_type": "stream",
          "name": "stdout",
          "text": [
            "Max is: 9\n"
          ]
        }
      ]
    },
    {
      "cell_type": "code",
      "source": [
        "nums = list(map(int, input(\"Enter numbers separated by space: \").split()))\n",
        "print(\"Average:\", sum(nums)/len(nums))\n"
      ],
      "metadata": {
        "colab": {
          "base_uri": "https://localhost:8080/"
        },
        "id": "4_N-S4eCooQS",
        "outputId": "890a419f-b384-4db5-cc42-a1685d48bfdc"
      },
      "execution_count": null,
      "outputs": [
        {
          "output_type": "stream",
          "name": "stdout",
          "text": [
            "Enter numbers separated by space: 3 4 5 63 2 2 2 4 1\n",
            "Average: 9.555555555555555\n"
          ]
        }
      ]
    },
    {
      "cell_type": "code",
      "source": [
        "nums = list(map(int, input(\"Enter numbers: \").split()))\n",
        "nums = list(set(nums))\n",
        "nums.sort()\n",
        "print(\"Second Largest:\", nums[-2])\n"
      ],
      "metadata": {
        "colab": {
          "base_uri": "https://localhost:8080/"
        },
        "id": "vf_1FDLvoyKz",
        "outputId": "9414b6cb-8751-44fb-db27-d5c19d6f57fd"
      },
      "execution_count": null,
      "outputs": [
        {
          "output_type": "stream",
          "name": "stdout",
          "text": [
            "Enter numbers: 2 3 4 5 2 3 4 1\n",
            "Second Largest: 4\n"
          ]
        }
      ]
    },
    {
      "cell_type": "code",
      "source": [
        "s = input(\"Enter a sentence: \")\n",
        "print(\"Word count:\", len(s.split()))\n"
      ],
      "metadata": {
        "colab": {
          "base_uri": "https://localhost:8080/"
        },
        "id": "sWqEj9b7pAXv",
        "outputId": "a8e93c90-7a8a-46d6-9f1d-1cf4dba49892"
      },
      "execution_count": null,
      "outputs": [
        {
          "output_type": "stream",
          "name": "stdout",
          "text": [
            "Enter a sentence: hi my name is yash\n",
            "Word count: 5\n"
          ]
        }
      ]
    },
    {
      "cell_type": "code",
      "source": [
        "lst = list(map(int, input(\"Enter numbers: \").split()))\n",
        "unique = list(set(lst))\n",
        "print(\"Without duplicates:\", unique)\n"
      ],
      "metadata": {
        "colab": {
          "base_uri": "https://localhost:8080/"
        },
        "id": "V3rJJyOkpIrT",
        "outputId": "60b40fd4-5d90-4cce-8994-059d24881790"
      },
      "execution_count": null,
      "outputs": [
        {
          "output_type": "stream",
          "name": "stdout",
          "text": [
            "Enter numbers: 3 4 4 3 2 5 6 1 7 8 3\n",
            "Without duplicates: [1, 2, 3, 4, 5, 6, 7, 8]\n"
          ]
        }
      ]
    },
    {
      "cell_type": "code",
      "source": [
        "keys = input(\"Enter keys: \").split()\n",
        "values = input(\"Enter values: \").split()\n",
        "d = dict(zip(keys, values))\n",
        "print(\"Dictionary:\", d)\n"
      ],
      "metadata": {
        "colab": {
          "base_uri": "https://localhost:8080/"
        },
        "id": "LlzDudLepcxZ",
        "outputId": "d70b0460-8c7b-471f-95ec-591a2e1692c9"
      },
      "execution_count": null,
      "outputs": [
        {
          "output_type": "stream",
          "name": "stdout",
          "text": [
            "Enter keys: name age city\n",
            "Enter values: Yash 20 Delhi\n",
            "Dictionary: {'name': 'Yash', 'age': '20', 'city': 'Delhi'}\n"
          ]
        }
      ]
    },
    {
      "cell_type": "code",
      "source": [
        "lst = list(map(int, input(\"Enter numbers: \").split()))\n",
        "for i in range(len(lst)):\n",
        "    for j in range(i+1, len(lst)):\n",
        "        if lst[i] > lst[j]:\n",
        "            lst[i], lst[j] = lst[j], lst[i]\n",
        "print(\"Sorted list:\", lst)\n"
      ],
      "metadata": {
        "colab": {
          "base_uri": "https://localhost:8080/"
        },
        "id": "CJtQpOZoqIVl",
        "outputId": "52d091e7-c0d1-4fb7-8514-cab296f9540c"
      },
      "execution_count": null,
      "outputs": [
        {
          "output_type": "stream",
          "name": "stdout",
          "text": [
            "Enter numbers: 4 5 6 2 3 4 8 9 1\n",
            "Sorted list: [1, 2, 3, 4, 4, 5, 6, 8, 9]\n"
          ]
        }
      ]
    },
    {
      "cell_type": "code",
      "source": [
        "def is_pangram(s):\n",
        "    s = s.lower()\n",
        "    return all(chr(i) in s for i in range(97, 123))\n",
        "\n",
        "print(is_pangram(\"The quick brown fox jumps over the lazy dog\"))\n"
      ],
      "metadata": {
        "colab": {
          "base_uri": "https://localhost:8080/"
        },
        "id": "BhLQVL5ZqOSW",
        "outputId": "9ed4addb-2ad3-405c-82da-401b9cdb3995"
      },
      "execution_count": null,
      "outputs": [
        {
          "output_type": "stream",
          "name": "stdout",
          "text": [
            "True\n"
          ]
        }
      ]
    },
    {
      "cell_type": "code",
      "source": [
        "def is_number(s):\n",
        "    try:\n",
        "        float(s)\n",
        "        return True\n",
        "    except ValueError:\n",
        "        return False\n",
        "\n",
        "print(is_number(\"123.45\"))\n"
      ],
      "metadata": {
        "colab": {
          "base_uri": "https://localhost:8080/"
        },
        "id": "CFYUj41pqSxo",
        "outputId": "47814028-a50b-4127-8ea4-43e6bb5e025d"
      },
      "execution_count": null,
      "outputs": [
        {
          "output_type": "stream",
          "name": "stdout",
          "text": [
            "True\n"
          ]
        }
      ]
    },
    {
      "cell_type": "code",
      "source": [
        "a = input(\"Enter first string: \").lower().replace(\" \", \"\")\n",
        "b = input(\"Enter second string: \").lower().replace(\" \", \"\")\n",
        "print(\"Anagram\" if sorted(a) == sorted(b) else \"Not Anagram\")\n"
      ],
      "metadata": {
        "colab": {
          "base_uri": "https://localhost:8080/"
        },
        "id": "SssuCuuyqUYI",
        "outputId": "59ac5c7f-3e7d-4748-eaf1-18953831e553"
      },
      "execution_count": null,
      "outputs": [
        {
          "output_type": "stream",
          "name": "stdout",
          "text": [
            "Enter first string: listen\n",
            "Enter second string: silent\n",
            "Anagram\n"
          ]
        }
      ]
    },
    {
      "cell_type": "code",
      "source": [
        "num = int(input(\"Enter a number: \"))\n",
        "print(\"Binary:\", bin(num))\n",
        "print(\"Octal:\", oct(num))\n",
        "print(\"Hexadecimal:\", hex(num))\n"
      ],
      "metadata": {
        "colab": {
          "base_uri": "https://localhost:8080/"
        },
        "id": "5M20DcI3qkd0",
        "outputId": "d791ec8f-b897-42bf-8880-4ff05bf28fc2"
      },
      "execution_count": null,
      "outputs": [
        {
          "output_type": "stream",
          "name": "stdout",
          "text": [
            "Enter a number: 540\n",
            "Binary: 0b1000011100\n",
            "Octal: 0o1034\n",
            "Hexadecimal: 0x21c\n"
          ]
        }
      ]
    },
    {
      "cell_type": "code",
      "source": [
        "lst = list(map(int, input(\"Enter numbers: \").split()))\n",
        "print(\"Greater than 50:\", [x for x in lst if x > 50])\n"
      ],
      "metadata": {
        "colab": {
          "base_uri": "https://localhost:8080/"
        },
        "id": "oqh34SzFq0QB",
        "outputId": "257cd09e-20cc-419e-b9fc-ead765894705"
      },
      "execution_count": null,
      "outputs": [
        {
          "output_type": "stream",
          "name": "stdout",
          "text": [
            "Enter numbers: 64\n",
            "Greater than 50: [64]\n"
          ]
        }
      ]
    },
    {
      "cell_type": "code",
      "source": [
        "s = input(\"Enter a string: \")\n",
        "upper = sum(1 for c in s if c.isupper())\n",
        "lower = sum(1 for c in s if c.islower())\n",
        "print(\"Uppercase:\", upper)\n",
        "print(\"Lowercase:\", lower)\n"
      ],
      "metadata": {
        "colab": {
          "base_uri": "https://localhost:8080/"
        },
        "id": "SYKeDOxpq83T",
        "outputId": "2d3af5d9-0b0b-4785-8737-f71641db6bab"
      },
      "execution_count": null,
      "outputs": [
        {
          "output_type": "stream",
          "name": "stdout",
          "text": [
            "Enter a string: WelCome\n",
            "Uppercase: 2\n",
            "Lowercase: 5\n"
          ]
        }
      ]
    },
    {
      "cell_type": "code",
      "source": [
        "lst = [1, 2, 3, 4, 5]\n",
        "squared = list(map(lambda x: x**2, lst))\n",
        "print(\"Squared list:\", squared)\n"
      ],
      "metadata": {
        "colab": {
          "base_uri": "https://localhost:8080/"
        },
        "id": "Nsh-iUr4rL1v",
        "outputId": "fe33f03f-daf4-420f-96f4-23633d4e87f4"
      },
      "execution_count": null,
      "outputs": [
        {
          "output_type": "stream",
          "name": "stdout",
          "text": [
            "Squared list: [1, 4, 9, 16, 25]\n"
          ]
        }
      ]
    },
    {
      "cell_type": "code",
      "source": [
        "def get_primes():\n",
        "    primes = []\n",
        "    for num in range(2, 101):\n",
        "        for i in range(2, int(num**0.5) + 1):\n",
        "            if num % i == 0:\n",
        "                break\n",
        "        else:\n",
        "            primes.append(num)\n",
        "    return primes\n",
        "\n",
        "print(\"Prime numbers from 1 to 100:\", get_primes())\n"
      ],
      "metadata": {
        "colab": {
          "base_uri": "https://localhost:8080/"
        },
        "id": "ijXQX1l7rNtP",
        "outputId": "29e0021a-fc60-4153-d74e-8378883db277"
      },
      "execution_count": null,
      "outputs": [
        {
          "output_type": "stream",
          "name": "stdout",
          "text": [
            "Prime numbers from 1 to 100: [2, 3, 5, 7, 11, 13, 17, 19, 23, 29, 31, 37, 41, 43, 47, 53, 59, 61, 67, 71, 73, 79, 83, 89, 97]\n"
          ]
        }
      ]
    },
    {
      "cell_type": "code",
      "source": [
        "def add(a, b): return a + b\n",
        "def sub(a, b): return a - b\n",
        "def mul(a, b): return a * b\n",
        "def div(a, b): return a / b if b != 0 else \"Cannot divide by zero\"\n",
        "\n",
        "a = float(input(\"Enter first number: \"))\n",
        "b = float(input(\"Enter second number: \"))\n",
        "op = input(\"Choose operator (+, -, *, /): \")\n",
        "\n",
        "if op == '+':\n",
        "    print(\"Result:\", add(a, b))\n",
        "elif op == '-':\n",
        "    print(\"Result:\", sub(a, b))\n",
        "elif op == '*':\n",
        "    print(\"Result:\", mul(a, b))\n",
        "elif op == '/':\n",
        "    print(\"Result:\", div(a, b))\n",
        "else:\n",
        "    print(\"Invalid operator\")\n"
      ],
      "metadata": {
        "colab": {
          "base_uri": "https://localhost:8080/"
        },
        "id": "qd-StEpGrR7h",
        "outputId": "81972fa0-3515-4fac-999d-ec42e221973e"
      },
      "execution_count": null,
      "outputs": [
        {
          "output_type": "stream",
          "name": "stdout",
          "text": [
            "Enter first number: 4\n",
            "Enter second number: 7\n",
            "Choose operator (+, -, *, /): *\n",
            "Result: 28.0\n"
          ]
        }
      ]
    },
    {
      "cell_type": "code",
      "source": [
        "def factorial(n):\n",
        "    if n == 0 or n == 1:\n",
        "        return 1\n",
        "    return n * factorial(n - 1)\n",
        "\n",
        "num = int(input(\"Enter a number: \"))\n",
        "print(\"Factorial:\", factorial(num))\n"
      ],
      "metadata": {
        "colab": {
          "base_uri": "https://localhost:8080/"
        },
        "id": "t0k_h8LjrXQT",
        "outputId": "35f67fab-6092-4aa7-d182-22f9430f30fd"
      },
      "execution_count": null,
      "outputs": [
        {
          "output_type": "stream",
          "name": "stdout",
          "text": [
            "Enter a number: 5\n",
            "Factorial: 120\n"
          ]
        }
      ]
    },
    {
      "cell_type": "code",
      "source": [
        "class Student:\n",
        "    def __init__(self, name, roll, marks):\n",
        "        self.name = name\n",
        "        self.roll = roll\n",
        "        self.marks = marks\n",
        "\n",
        "    def display(self):\n",
        "        print(\"Name:\", self.name)\n",
        "        print(\"Roll No:\", self.roll)\n",
        "        print(\"Marks:\", self.marks)\n",
        "\n",
        "s1 = Student(\"Yash\", 101, 85)\n",
        "s1.display()\n"
      ],
      "metadata": {
        "colab": {
          "base_uri": "https://localhost:8080/"
        },
        "id": "jPs7vRqirdFr",
        "outputId": "698e31fe-f050-41df-bde9-7d42c325fa9d"
      },
      "execution_count": null,
      "outputs": [
        {
          "output_type": "stream",
          "name": "stdout",
          "text": [
            "Name: Yash\n",
            "Roll No: 101\n",
            "Marks: 85\n"
          ]
        }
      ]
    },
    {
      "cell_type": "code",
      "source": [
        "from google.colab import files  # Only for Google Colab\n",
        "\n",
        "uploaded = files.upload()"
      ],
      "metadata": {
        "id": "eRtsScgMwL4K",
        "colab": {
          "base_uri": "https://localhost:8080/",
          "height": 73
        },
        "outputId": "4839d193-34b8-4114-8d74-13d784b92529"
      },
      "execution_count": null,
      "outputs": [
        {
          "output_type": "display_data",
          "data": {
            "text/plain": [
              "<IPython.core.display.HTML object>"
            ],
            "text/html": [
              "\n",
              "     <input type=\"file\" id=\"files-e5c3cfaf-d3ac-4a21-9503-ecb9b20d4a0f\" name=\"files[]\" multiple disabled\n",
              "        style=\"border:none\" />\n",
              "     <output id=\"result-e5c3cfaf-d3ac-4a21-9503-ecb9b20d4a0f\">\n",
              "      Upload widget is only available when the cell has been executed in the\n",
              "      current browser session. Please rerun this cell to enable.\n",
              "      </output>\n",
              "      <script>// Copyright 2017 Google LLC\n",
              "//\n",
              "// Licensed under the Apache License, Version 2.0 (the \"License\");\n",
              "// you may not use this file except in compliance with the License.\n",
              "// You may obtain a copy of the License at\n",
              "//\n",
              "//      http://www.apache.org/licenses/LICENSE-2.0\n",
              "//\n",
              "// Unless required by applicable law or agreed to in writing, software\n",
              "// distributed under the License is distributed on an \"AS IS\" BASIS,\n",
              "// WITHOUT WARRANTIES OR CONDITIONS OF ANY KIND, either express or implied.\n",
              "// See the License for the specific language governing permissions and\n",
              "// limitations under the License.\n",
              "\n",
              "/**\n",
              " * @fileoverview Helpers for google.colab Python module.\n",
              " */\n",
              "(function(scope) {\n",
              "function span(text, styleAttributes = {}) {\n",
              "  const element = document.createElement('span');\n",
              "  element.textContent = text;\n",
              "  for (const key of Object.keys(styleAttributes)) {\n",
              "    element.style[key] = styleAttributes[key];\n",
              "  }\n",
              "  return element;\n",
              "}\n",
              "\n",
              "// Max number of bytes which will be uploaded at a time.\n",
              "const MAX_PAYLOAD_SIZE = 100 * 1024;\n",
              "\n",
              "function _uploadFiles(inputId, outputId) {\n",
              "  const steps = uploadFilesStep(inputId, outputId);\n",
              "  const outputElement = document.getElementById(outputId);\n",
              "  // Cache steps on the outputElement to make it available for the next call\n",
              "  // to uploadFilesContinue from Python.\n",
              "  outputElement.steps = steps;\n",
              "\n",
              "  return _uploadFilesContinue(outputId);\n",
              "}\n",
              "\n",
              "// This is roughly an async generator (not supported in the browser yet),\n",
              "// where there are multiple asynchronous steps and the Python side is going\n",
              "// to poll for completion of each step.\n",
              "// This uses a Promise to block the python side on completion of each step,\n",
              "// then passes the result of the previous step as the input to the next step.\n",
              "function _uploadFilesContinue(outputId) {\n",
              "  const outputElement = document.getElementById(outputId);\n",
              "  const steps = outputElement.steps;\n",
              "\n",
              "  const next = steps.next(outputElement.lastPromiseValue);\n",
              "  return Promise.resolve(next.value.promise).then((value) => {\n",
              "    // Cache the last promise value to make it available to the next\n",
              "    // step of the generator.\n",
              "    outputElement.lastPromiseValue = value;\n",
              "    return next.value.response;\n",
              "  });\n",
              "}\n",
              "\n",
              "/**\n",
              " * Generator function which is called between each async step of the upload\n",
              " * process.\n",
              " * @param {string} inputId Element ID of the input file picker element.\n",
              " * @param {string} outputId Element ID of the output display.\n",
              " * @return {!Iterable<!Object>} Iterable of next steps.\n",
              " */\n",
              "function* uploadFilesStep(inputId, outputId) {\n",
              "  const inputElement = document.getElementById(inputId);\n",
              "  inputElement.disabled = false;\n",
              "\n",
              "  const outputElement = document.getElementById(outputId);\n",
              "  outputElement.innerHTML = '';\n",
              "\n",
              "  const pickedPromise = new Promise((resolve) => {\n",
              "    inputElement.addEventListener('change', (e) => {\n",
              "      resolve(e.target.files);\n",
              "    });\n",
              "  });\n",
              "\n",
              "  const cancel = document.createElement('button');\n",
              "  inputElement.parentElement.appendChild(cancel);\n",
              "  cancel.textContent = 'Cancel upload';\n",
              "  const cancelPromise = new Promise((resolve) => {\n",
              "    cancel.onclick = () => {\n",
              "      resolve(null);\n",
              "    };\n",
              "  });\n",
              "\n",
              "  // Wait for the user to pick the files.\n",
              "  const files = yield {\n",
              "    promise: Promise.race([pickedPromise, cancelPromise]),\n",
              "    response: {\n",
              "      action: 'starting',\n",
              "    }\n",
              "  };\n",
              "\n",
              "  cancel.remove();\n",
              "\n",
              "  // Disable the input element since further picks are not allowed.\n",
              "  inputElement.disabled = true;\n",
              "\n",
              "  if (!files) {\n",
              "    return {\n",
              "      response: {\n",
              "        action: 'complete',\n",
              "      }\n",
              "    };\n",
              "  }\n",
              "\n",
              "  for (const file of files) {\n",
              "    const li = document.createElement('li');\n",
              "    li.append(span(file.name, {fontWeight: 'bold'}));\n",
              "    li.append(span(\n",
              "        `(${file.type || 'n/a'}) - ${file.size} bytes, ` +\n",
              "        `last modified: ${\n",
              "            file.lastModifiedDate ? file.lastModifiedDate.toLocaleDateString() :\n",
              "                                    'n/a'} - `));\n",
              "    const percent = span('0% done');\n",
              "    li.appendChild(percent);\n",
              "\n",
              "    outputElement.appendChild(li);\n",
              "\n",
              "    const fileDataPromise = new Promise((resolve) => {\n",
              "      const reader = new FileReader();\n",
              "      reader.onload = (e) => {\n",
              "        resolve(e.target.result);\n",
              "      };\n",
              "      reader.readAsArrayBuffer(file);\n",
              "    });\n",
              "    // Wait for the data to be ready.\n",
              "    let fileData = yield {\n",
              "      promise: fileDataPromise,\n",
              "      response: {\n",
              "        action: 'continue',\n",
              "      }\n",
              "    };\n",
              "\n",
              "    // Use a chunked sending to avoid message size limits. See b/62115660.\n",
              "    let position = 0;\n",
              "    do {\n",
              "      const length = Math.min(fileData.byteLength - position, MAX_PAYLOAD_SIZE);\n",
              "      const chunk = new Uint8Array(fileData, position, length);\n",
              "      position += length;\n",
              "\n",
              "      const base64 = btoa(String.fromCharCode.apply(null, chunk));\n",
              "      yield {\n",
              "        response: {\n",
              "          action: 'append',\n",
              "          file: file.name,\n",
              "          data: base64,\n",
              "        },\n",
              "      };\n",
              "\n",
              "      let percentDone = fileData.byteLength === 0 ?\n",
              "          100 :\n",
              "          Math.round((position / fileData.byteLength) * 100);\n",
              "      percent.textContent = `${percentDone}% done`;\n",
              "\n",
              "    } while (position < fileData.byteLength);\n",
              "  }\n",
              "\n",
              "  // All done.\n",
              "  yield {\n",
              "    response: {\n",
              "      action: 'complete',\n",
              "    }\n",
              "  };\n",
              "}\n",
              "\n",
              "scope.google = scope.google || {};\n",
              "scope.google.colab = scope.google.colab || {};\n",
              "scope.google.colab._files = {\n",
              "  _uploadFiles,\n",
              "  _uploadFilesContinue,\n",
              "};\n",
              "})(self);\n",
              "</script> "
            ]
          },
          "metadata": {}
        },
        {
          "output_type": "stream",
          "name": "stdout",
          "text": [
            "Saving sample.txt to sample.txt\n"
          ]
        }
      ]
    },
    {
      "cell_type": "code",
      "source": [
        "with open(\"sample.txt\", \"r\") as f:\n",
        "    lines = f.readlines()\n",
        "    word_count = sum(len(line.split()) for line in lines)\n",
        "    print(\"Lines:\", len(lines))\n",
        "    print(\"Words:\", word_count)\n"
      ],
      "metadata": {
        "colab": {
          "base_uri": "https://localhost:8080/"
        },
        "id": "CgEDhyKDC4D0",
        "outputId": "8974e986-bfaa-4435-da4a-68710ccabaa5"
      },
      "execution_count": null,
      "outputs": [
        {
          "output_type": "stream",
          "name": "stdout",
          "text": [
            "Lines: 3\n",
            "Words: 13\n"
          ]
        }
      ]
    },
    {
      "cell_type": "code",
      "source": [
        "import time\n",
        "\n",
        "def timer(func):\n",
        "    def wrapper(*args, **kwargs):\n",
        "        start = time.time()\n",
        "        result = func(*args, **kwargs)\n",
        "        end = time.time()\n",
        "        print(\"Execution time:\", end - start, \"seconds\")\n",
        "        return result\n",
        "    return wrapper\n",
        "\n",
        "@timer\n",
        "def sample():\n",
        "    time.sleep(2)\n",
        "    print(\"Function done\")\n",
        "\n",
        "sample()\n"
      ],
      "metadata": {
        "colab": {
          "base_uri": "https://localhost:8080/"
        },
        "id": "o1xNjD99C8jf",
        "outputId": "05677981-c079-412b-9156-b905eabfb4ee"
      },
      "execution_count": null,
      "outputs": [
        {
          "output_type": "stream",
          "name": "stdout",
          "text": [
            "Function done\n",
            "Execution time: 2.0002379417419434 seconds\n"
          ]
        }
      ]
    },
    {
      "cell_type": "code",
      "source": [
        "class BankAccount:\n",
        "    def __init__(self, balance=0):\n",
        "        self.balance = balance\n",
        "\n",
        "    def deposit(self, amount):\n",
        "        self.balance += amount\n",
        "        print(\"Deposited:\", amount)\n",
        "\n",
        "    def withdraw(self, amount):\n",
        "        if amount > self.balance:\n",
        "            print(\"Insufficient balance\")\n",
        "        else:\n",
        "            self.balance -= amount\n",
        "            print(\"Withdrawn:\", amount)\n",
        "\n",
        "    def show_balance(self):\n",
        "        print(\"Balance:\", self.balance)\n",
        "\n",
        "acc = BankAccount()\n",
        "acc.deposit(1000)\n",
        "acc.withdraw(500)\n",
        "acc.show_balance()\n"
      ],
      "metadata": {
        "colab": {
          "base_uri": "https://localhost:8080/"
        },
        "id": "hzF9-ahoDDuB",
        "outputId": "dbad9dfc-cb6e-4d5b-caa6-ce78f15a9941"
      },
      "execution_count": null,
      "outputs": [
        {
          "output_type": "stream",
          "name": "stdout",
          "text": [
            "Deposited: 1000\n",
            "Withdrawn: 500\n",
            "Balance: 500\n"
          ]
        }
      ]
    },
    {
      "cell_type": "code",
      "source": [
        "def even_generator(n):\n",
        "    for i in range(2, n+1, 2):\n",
        "        yield i\n",
        "\n",
        "for num in even_generator(10):\n",
        "    print(num, end=' ')\n"
      ],
      "metadata": {
        "colab": {
          "base_uri": "https://localhost:8080/"
        },
        "id": "gRD0zMr6DIJs",
        "outputId": "14308d3d-3cb3-43f7-a8b1-62fb80dcaa01"
      },
      "execution_count": null,
      "outputs": [
        {
          "output_type": "stream",
          "name": "stdout",
          "text": [
            "2 4 6 8 10 "
          ]
        }
      ]
    },
    {
      "cell_type": "code",
      "source": [
        "def display_args(*args, **kwargs):\n",
        "    print(\"Args:\", args)\n",
        "    print(\"Kwargs:\", kwargs)\n",
        "\n",
        "display_args(1, 2, 3, name=\"Yash\", age=20)\n"
      ],
      "metadata": {
        "colab": {
          "base_uri": "https://localhost:8080/"
        },
        "id": "QqINm-7yDJf8",
        "outputId": "0420bb09-0913-4425-e313-9e53a2cbc08a"
      },
      "execution_count": null,
      "outputs": [
        {
          "output_type": "stream",
          "name": "stdout",
          "text": [
            "Args: (1, 2, 3)\n",
            "Kwargs: {'name': 'Yash', 'age': 20}\n"
          ]
        }
      ]
    },
    {
      "cell_type": "code",
      "source": [
        "squares = [x**2 for x in range(1, 21) if x % 2 == 0]\n",
        "print(\"Even Squares:\", squares)\n"
      ],
      "metadata": {
        "colab": {
          "base_uri": "https://localhost:8080/"
        },
        "id": "FKMn67TcDM0G",
        "outputId": "2c4399e7-4181-4e10-f1a2-fe125c8ed30d"
      },
      "execution_count": null,
      "outputs": [
        {
          "output_type": "stream",
          "name": "stdout",
          "text": [
            "Even Squares: [4, 16, 36, 64, 100, 144, 196, 256, 324, 400]\n"
          ]
        }
      ]
    },
    {
      "cell_type": "code",
      "source": [
        "def unique_elements(lst):\n",
        "    return list(set(lst))\n",
        "\n",
        "print(unique_elements([1, 2, 2, 3, 4, 4, 5]))\n"
      ],
      "metadata": {
        "colab": {
          "base_uri": "https://localhost:8080/"
        },
        "id": "JNkylG6tDN9t",
        "outputId": "ce6fa042-47e5-43d4-fdfe-5b51fe1e63a0"
      },
      "execution_count": null,
      "outputs": [
        {
          "output_type": "stream",
          "name": "stdout",
          "text": [
            "[1, 2, 3, 4, 5]\n"
          ]
        }
      ]
    },
    {
      "cell_type": "code",
      "source": [
        "d1 = {'a': 1, 'b': 2}\n",
        "d2 = {'b': 3, 'c': 4}\n",
        "merged = {**d1, **d2}\n",
        "print(\"Merged Dictionary:\", merged)\n"
      ],
      "metadata": {
        "colab": {
          "base_uri": "https://localhost:8080/"
        },
        "id": "QMn6vPHADQZu",
        "outputId": "2c383c09-a4d8-4b52-b8cb-bca54b50a33c"
      },
      "execution_count": null,
      "outputs": [
        {
          "output_type": "stream",
          "name": "stdout",
          "text": [
            "Merged Dictionary: {'a': 1, 'b': 3, 'c': 4}\n"
          ]
        }
      ]
    },
    {
      "cell_type": "code",
      "source": [
        "class Animal:\n",
        "    def speak(self):\n",
        "        print(\"Animal speaks\")\n",
        "\n",
        "class Dog(Animal):\n",
        "    def speak(self):\n",
        "        print(\"Dog barks\")\n",
        "\n",
        "d = Dog()\n",
        "d.speak()\n"
      ],
      "metadata": {
        "colab": {
          "base_uri": "https://localhost:8080/"
        },
        "id": "aVJsrsAZDS8v",
        "outputId": "cbeee1e2-d3c8-44fd-d1ee-14c832f1b4d0"
      },
      "execution_count": null,
      "outputs": [
        {
          "output_type": "stream",
          "name": "stdout",
          "text": [
            "Dog barks\n"
          ]
        }
      ]
    },
    {
      "cell_type": "code",
      "source": [
        "def common_elements(a, b):\n",
        "    return list(set(a) & set(b))\n",
        "\n",
        "print(common_elements([1, 2, 3], [2, 3, 4]))\n"
      ],
      "metadata": {
        "colab": {
          "base_uri": "https://localhost:8080/"
        },
        "id": "yzLs9tsJDU92",
        "outputId": "a28e4286-9652-4c9e-f59a-13c69b501721"
      },
      "execution_count": null,
      "outputs": [
        {
          "output_type": "stream",
          "name": "stdout",
          "text": [
            "[2, 3]\n"
          ]
        }
      ]
    },
    {
      "cell_type": "code",
      "source": [
        "try:\n",
        "    x = int(input(\"Enter a number: \"))\n",
        "    result = 10 / x\n",
        "except ZeroDivisionError:\n",
        "    print(\"Cannot divide by zero\")\n",
        "except ValueError:\n",
        "    print(\"Invalid input\")\n",
        "finally:\n",
        "    print(\"Try-Except-Finally done\")\n"
      ],
      "metadata": {
        "colab": {
          "base_uri": "https://localhost:8080/"
        },
        "id": "xqitPI_bDXHn",
        "outputId": "31f93235-b52f-412a-90c1-5c50febc27ed"
      },
      "execution_count": null,
      "outputs": [
        {
          "output_type": "stream",
          "name": "stdout",
          "text": [
            "Enter a number: 30\n",
            "Try-Except-Finally done\n"
          ]
        }
      ]
    },
    {
      "cell_type": "code",
      "source": [
        "import json\n",
        "\n",
        "data = '{\"name\": \"Yash\", \"age\": 20}'\n",
        "parsed = json.loads(data)\n",
        "print(\"Name:\", parsed[\"name\"])\n",
        "print(\"Age:\", parsed[\"age\"])\n"
      ],
      "metadata": {
        "colab": {
          "base_uri": "https://localhost:8080/"
        },
        "id": "P6RoRf_SDd15",
        "outputId": "346bfbd3-7cd5-4075-ce41-e08d4f7ab3b8"
      },
      "execution_count": null,
      "outputs": [
        {
          "output_type": "stream",
          "name": "stdout",
          "text": [
            "Name: Yash\n",
            "Age: 20\n"
          ]
        }
      ]
    },
    {
      "cell_type": "code",
      "source": [
        "class Demo:\n",
        "    def __init__(self):\n",
        "        self._protected = \"Protected\"\n",
        "        self.__private = \"Private\"\n",
        "\n",
        "    def show(self):\n",
        "        print(self._protected)\n",
        "        print(self.__private)\n",
        "\n",
        "d = Demo()\n",
        "d.show()\n",
        "# Accessing outside\n",
        "print(d._protected)\n",
        "# print(d.__private)  # Error\n"
      ],
      "metadata": {
        "colab": {
          "base_uri": "https://localhost:8080/"
        },
        "id": "lMuCZirIDgLB",
        "outputId": "a7a1ea72-5c26-40da-ef2a-7251f613494f"
      },
      "execution_count": null,
      "outputs": [
        {
          "output_type": "stream",
          "name": "stdout",
          "text": [
            "Protected\n",
            "Private\n",
            "Protected\n"
          ]
        }
      ]
    },
    {
      "cell_type": "code",
      "source": [
        "import re\n",
        "\n",
        "def is_valid_email(email):\n",
        "    pattern = r'^[\\w\\.-]+@[\\w\\.-]+\\.\\w+$'\n",
        "    return re.match(pattern, email) is not None\n",
        "\n",
        "print(is_valid_email(\"test@example.com\"))\n"
      ],
      "metadata": {
        "colab": {
          "base_uri": "https://localhost:8080/"
        },
        "id": "dLJhq2oMDjNr",
        "outputId": "86271c17-0ca8-4977-dea1-6326edc248af"
      },
      "execution_count": null,
      "outputs": [
        {
          "output_type": "stream",
          "name": "stdout",
          "text": [
            "True\n"
          ]
        }
      ]
    },
    {
      "cell_type": "code",
      "source": [
        "from google.colab import files  # Only for Google Colab\n",
        "\n",
        "uploaded = files.upload()"
      ],
      "metadata": {
        "colab": {
          "base_uri": "https://localhost:8080/",
          "height": 73
        },
        "id": "mNzBuAyZDlV0",
        "outputId": "9a9074f2-5398-40fd-8c56-da247c39526e"
      },
      "execution_count": null,
      "outputs": [
        {
          "output_type": "display_data",
          "data": {
            "text/plain": [
              "<IPython.core.display.HTML object>"
            ],
            "text/html": [
              "\n",
              "     <input type=\"file\" id=\"files-edb9ddfc-1efb-48ac-b1fb-13b957ea6321\" name=\"files[]\" multiple disabled\n",
              "        style=\"border:none\" />\n",
              "     <output id=\"result-edb9ddfc-1efb-48ac-b1fb-13b957ea6321\">\n",
              "      Upload widget is only available when the cell has been executed in the\n",
              "      current browser session. Please rerun this cell to enable.\n",
              "      </output>\n",
              "      <script>// Copyright 2017 Google LLC\n",
              "//\n",
              "// Licensed under the Apache License, Version 2.0 (the \"License\");\n",
              "// you may not use this file except in compliance with the License.\n",
              "// You may obtain a copy of the License at\n",
              "//\n",
              "//      http://www.apache.org/licenses/LICENSE-2.0\n",
              "//\n",
              "// Unless required by applicable law or agreed to in writing, software\n",
              "// distributed under the License is distributed on an \"AS IS\" BASIS,\n",
              "// WITHOUT WARRANTIES OR CONDITIONS OF ANY KIND, either express or implied.\n",
              "// See the License for the specific language governing permissions and\n",
              "// limitations under the License.\n",
              "\n",
              "/**\n",
              " * @fileoverview Helpers for google.colab Python module.\n",
              " */\n",
              "(function(scope) {\n",
              "function span(text, styleAttributes = {}) {\n",
              "  const element = document.createElement('span');\n",
              "  element.textContent = text;\n",
              "  for (const key of Object.keys(styleAttributes)) {\n",
              "    element.style[key] = styleAttributes[key];\n",
              "  }\n",
              "  return element;\n",
              "}\n",
              "\n",
              "// Max number of bytes which will be uploaded at a time.\n",
              "const MAX_PAYLOAD_SIZE = 100 * 1024;\n",
              "\n",
              "function _uploadFiles(inputId, outputId) {\n",
              "  const steps = uploadFilesStep(inputId, outputId);\n",
              "  const outputElement = document.getElementById(outputId);\n",
              "  // Cache steps on the outputElement to make it available for the next call\n",
              "  // to uploadFilesContinue from Python.\n",
              "  outputElement.steps = steps;\n",
              "\n",
              "  return _uploadFilesContinue(outputId);\n",
              "}\n",
              "\n",
              "// This is roughly an async generator (not supported in the browser yet),\n",
              "// where there are multiple asynchronous steps and the Python side is going\n",
              "// to poll for completion of each step.\n",
              "// This uses a Promise to block the python side on completion of each step,\n",
              "// then passes the result of the previous step as the input to the next step.\n",
              "function _uploadFilesContinue(outputId) {\n",
              "  const outputElement = document.getElementById(outputId);\n",
              "  const steps = outputElement.steps;\n",
              "\n",
              "  const next = steps.next(outputElement.lastPromiseValue);\n",
              "  return Promise.resolve(next.value.promise).then((value) => {\n",
              "    // Cache the last promise value to make it available to the next\n",
              "    // step of the generator.\n",
              "    outputElement.lastPromiseValue = value;\n",
              "    return next.value.response;\n",
              "  });\n",
              "}\n",
              "\n",
              "/**\n",
              " * Generator function which is called between each async step of the upload\n",
              " * process.\n",
              " * @param {string} inputId Element ID of the input file picker element.\n",
              " * @param {string} outputId Element ID of the output display.\n",
              " * @return {!Iterable<!Object>} Iterable of next steps.\n",
              " */\n",
              "function* uploadFilesStep(inputId, outputId) {\n",
              "  const inputElement = document.getElementById(inputId);\n",
              "  inputElement.disabled = false;\n",
              "\n",
              "  const outputElement = document.getElementById(outputId);\n",
              "  outputElement.innerHTML = '';\n",
              "\n",
              "  const pickedPromise = new Promise((resolve) => {\n",
              "    inputElement.addEventListener('change', (e) => {\n",
              "      resolve(e.target.files);\n",
              "    });\n",
              "  });\n",
              "\n",
              "  const cancel = document.createElement('button');\n",
              "  inputElement.parentElement.appendChild(cancel);\n",
              "  cancel.textContent = 'Cancel upload';\n",
              "  const cancelPromise = new Promise((resolve) => {\n",
              "    cancel.onclick = () => {\n",
              "      resolve(null);\n",
              "    };\n",
              "  });\n",
              "\n",
              "  // Wait for the user to pick the files.\n",
              "  const files = yield {\n",
              "    promise: Promise.race([pickedPromise, cancelPromise]),\n",
              "    response: {\n",
              "      action: 'starting',\n",
              "    }\n",
              "  };\n",
              "\n",
              "  cancel.remove();\n",
              "\n",
              "  // Disable the input element since further picks are not allowed.\n",
              "  inputElement.disabled = true;\n",
              "\n",
              "  if (!files) {\n",
              "    return {\n",
              "      response: {\n",
              "        action: 'complete',\n",
              "      }\n",
              "    };\n",
              "  }\n",
              "\n",
              "  for (const file of files) {\n",
              "    const li = document.createElement('li');\n",
              "    li.append(span(file.name, {fontWeight: 'bold'}));\n",
              "    li.append(span(\n",
              "        `(${file.type || 'n/a'}) - ${file.size} bytes, ` +\n",
              "        `last modified: ${\n",
              "            file.lastModifiedDate ? file.lastModifiedDate.toLocaleDateString() :\n",
              "                                    'n/a'} - `));\n",
              "    const percent = span('0% done');\n",
              "    li.appendChild(percent);\n",
              "\n",
              "    outputElement.appendChild(li);\n",
              "\n",
              "    const fileDataPromise = new Promise((resolve) => {\n",
              "      const reader = new FileReader();\n",
              "      reader.onload = (e) => {\n",
              "        resolve(e.target.result);\n",
              "      };\n",
              "      reader.readAsArrayBuffer(file);\n",
              "    });\n",
              "    // Wait for the data to be ready.\n",
              "    let fileData = yield {\n",
              "      promise: fileDataPromise,\n",
              "      response: {\n",
              "        action: 'continue',\n",
              "      }\n",
              "    };\n",
              "\n",
              "    // Use a chunked sending to avoid message size limits. See b/62115660.\n",
              "    let position = 0;\n",
              "    do {\n",
              "      const length = Math.min(fileData.byteLength - position, MAX_PAYLOAD_SIZE);\n",
              "      const chunk = new Uint8Array(fileData, position, length);\n",
              "      position += length;\n",
              "\n",
              "      const base64 = btoa(String.fromCharCode.apply(null, chunk));\n",
              "      yield {\n",
              "        response: {\n",
              "          action: 'append',\n",
              "          file: file.name,\n",
              "          data: base64,\n",
              "        },\n",
              "      };\n",
              "\n",
              "      let percentDone = fileData.byteLength === 0 ?\n",
              "          100 :\n",
              "          Math.round((position / fileData.byteLength) * 100);\n",
              "      percent.textContent = `${percentDone}% done`;\n",
              "\n",
              "    } while (position < fileData.byteLength);\n",
              "  }\n",
              "\n",
              "  // All done.\n",
              "  yield {\n",
              "    response: {\n",
              "      action: 'complete',\n",
              "    }\n",
              "  };\n",
              "}\n",
              "\n",
              "scope.google = scope.google || {};\n",
              "scope.google.colab = scope.google.colab || {};\n",
              "scope.google.colab._files = {\n",
              "  _uploadFiles,\n",
              "  _uploadFilesContinue,\n",
              "};\n",
              "})(self);\n",
              "</script> "
            ]
          },
          "metadata": {}
        },
        {
          "output_type": "stream",
          "name": "stdout",
          "text": [
            "Saving data.csv to data.csv\n"
          ]
        }
      ]
    },
    {
      "cell_type": "code",
      "source": [
        "import csv\n",
        "\n",
        "with open(\"data.csv\", newline='') as file:\n",
        "    reader = csv.DictReader(file)\n",
        "    data = list(reader)\n",
        "    print(data)\n"
      ],
      "metadata": {
        "colab": {
          "base_uri": "https://localhost:8080/"
        },
        "id": "EIMqunF0Ei12",
        "outputId": "98ce6e59-c328-4167-b9d5-445b5ea3b0bf"
      },
      "execution_count": null,
      "outputs": [
        {
          "output_type": "stream",
          "name": "stdout",
          "text": [
            "[{'\\ufeffName': 'Yash', 'Age': '20', 'City': 'Delhi'}, {'\\ufeffName': 'Tanishk', 'Age': '19', 'City': 'Delhi'}, {'\\ufeffName': 'Sonu', 'Age': '20', 'City': 'Delhi'}]\n"
          ]
        }
      ]
    },
    {
      "cell_type": "code",
      "source": [
        "users = {'admin': '1234', 'yash': 'abcd'}\n",
        "\n",
        "username = input(\"Enter username: \")\n",
        "password = input(\"Enter password: \")\n",
        "\n",
        "if username in users and users[username] == password:\n",
        "    print(\"Login successful\")\n",
        "else:\n",
        "    print(\"Invalid credentials\")\n"
      ],
      "metadata": {
        "colab": {
          "base_uri": "https://localhost:8080/"
        },
        "id": "zuTY2s6pEm9H",
        "outputId": "7ab39778-f0fa-4066-8851-2a3283976483"
      },
      "execution_count": null,
      "outputs": [
        {
          "output_type": "stream",
          "name": "stdout",
          "text": [
            "Enter username: yash\n",
            "Enter password: abcd\n",
            "Login successful\n"
          ]
        }
      ]
    },
    {
      "cell_type": "code",
      "source": [
        "def flatten(lst):\n",
        "    result = []\n",
        "    for item in lst:\n",
        "        if isinstance(item, list):\n",
        "            result.extend(flatten(item))\n",
        "        else:\n",
        "            result.append(item)\n",
        "    return result\n",
        "\n",
        "print(flatten([1, [2, [3, 4], 5], 6]))\n"
      ],
      "metadata": {
        "colab": {
          "base_uri": "https://localhost:8080/"
        },
        "id": "Rvpz4jWYEv4o",
        "outputId": "2c4225ee-93e3-4c18-af47-ab58fc733ac4"
      },
      "execution_count": null,
      "outputs": [
        {
          "output_type": "stream",
          "name": "stdout",
          "text": [
            "[1, 2, 3, 4, 5, 6]\n"
          ]
        }
      ]
    },
    {
      "cell_type": "code",
      "source": [
        "from functools import reduce\n",
        "\n",
        "lst = [1, 2, 3, 4, 5]\n",
        "\n",
        "squares = list(map(lambda x: x*x, lst))\n",
        "evens = list(filter(lambda x: x % 2 == 0, lst))\n",
        "total = reduce(lambda x, y: x + y, lst)\n",
        "\n",
        "print(\"Squares:\", squares)\n",
        "print(\"Evens:\", evens)\n",
        "print(\"Sum:\", total)\n"
      ],
      "metadata": {
        "colab": {
          "base_uri": "https://localhost:8080/"
        },
        "id": "gSrwEHrdE0AJ",
        "outputId": "ce38b946-9790-4f79-b2c1-d2b8676522dc"
      },
      "execution_count": null,
      "outputs": [
        {
          "output_type": "stream",
          "name": "stdout",
          "text": [
            "Squares: [1, 4, 9, 16, 25]\n",
            "Evens: [2, 4]\n",
            "Sum: 15\n"
          ]
        }
      ]
    },
    {
      "cell_type": "code",
      "source": [
        "while True:\n",
        "    print(\"\\n1. Add\\n2. Subtract\\n3. Exit\")\n",
        "    choice = input(\"Choose option: \")\n",
        "\n",
        "    if choice == '3':\n",
        "        break\n",
        "\n",
        "    a = float(input(\"Enter first number: \"))\n",
        "    b = float(input(\"Enter second number: \"))\n",
        "\n",
        "    if choice == '1':\n",
        "        print(\"Result:\", a + b)\n",
        "    elif choice == '2':\n",
        "        print(\"Result:\", a - b)\n",
        "    else:\n",
        "        print(\"Invalid option\")\n"
      ],
      "metadata": {
        "colab": {
          "base_uri": "https://localhost:8080/"
        },
        "id": "iM9vlK6UE24y",
        "outputId": "cd7fb9ca-e071-4723-9ee9-bbe0163e80bc"
      },
      "execution_count": null,
      "outputs": [
        {
          "name": "stdout",
          "output_type": "stream",
          "text": [
            "\n",
            "1. Add\n",
            "2. Subtract\n",
            "3. Exit\n",
            "Choose option: 1\n",
            "Enter first number: 4\n",
            "Enter second number: 6\n",
            "Result: 10.0\n",
            "\n",
            "1. Add\n",
            "2. Subtract\n",
            "3. Exit\n",
            "Choose option: 3\n"
          ]
        }
      ]
    },
    {
      "cell_type": "code",
      "source": [],
      "metadata": {
        "id": "DXcMnX5eFpRZ"
      },
      "execution_count": null,
      "outputs": []
    },
    {
      "cell_type": "code",
      "source": [
        "score = 0\n",
        "questions = {\n",
        "    \"Capital of India?\": \"delhi\",\n",
        "    \"2 + 2?\": \"4\",\n",
        "    \"Color of sky?\": \"blue\"\n",
        "}\n",
        "\n",
        "for q, ans in questions.items():\n",
        "    user_ans = input(q + \" \").strip().lower()\n",
        "    if user_ans == ans:\n",
        "        score += 1\n",
        "\n",
        "print(\"Your score:\", score, \"/\", len(questions))\n"
      ],
      "metadata": {
        "colab": {
          "base_uri": "https://localhost:8080/"
        },
        "id": "nIKzu41kFQZJ",
        "outputId": "3da32672-3cf2-4845-a649-d151a1dc3495"
      },
      "execution_count": null,
      "outputs": [
        {
          "output_type": "stream",
          "name": "stdout",
          "text": [
            "Capital of India? delhi\n",
            "2 + 2? 4\n",
            "Color of sky? blue\n",
            "Your score: 3 / 3\n"
          ]
        }
      ]
    }
  ]
}